{
  "nbformat": 4,
  "nbformat_minor": 0,
  "metadata": {
    "colab": {
      "provenance": []
    },
    "kernelspec": {
      "name": "python3",
      "display_name": "Python 3"
    },
    "language_info": {
      "name": "python"
    }
  },
  "cells": [
    {
      "cell_type": "code",
      "execution_count": 11,
      "metadata": {
        "colab": {
          "base_uri": "https://localhost:8080/"
        },
        "id": "hs-JfdN_xdXy",
        "outputId": "5c1f9f7c-bc60-407d-86d8-ee2d3aa1094a"
      },
      "outputs": [
        {
          "output_type": "stream",
          "name": "stdout",
          "text": [
            "3\n",
            "6\n",
            "4\n"
          ]
        }
      ],
      "source": [
        "from collections import Counter\n",
        "\n",
        "def count_pairs(arr):\n",
        "    counter = Counter(arr)\n",
        "    total_pairs = sum(count // 2 for count in counter.values())\n",
        "    return total_pairs\n",
        "\n",
        "# Examples:\n",
        "print(count_pairs([10, 20, 20, 10, 10, 30, 50, 10, 20]))  # Output: 3\n",
        "print(count_pairs([6, 5, 2, 3, 5, 2, 2, 1, 1, 5, 1, 3, 3, 3, 5]))  # Output: 6\n",
        "print(count_pairs([1, 1, 3, 1, 2, 1, 3, 3, 3, 3]))  # Output: 4\n"
      ]
    },
    {
      "cell_type": "code",
      "source": [
        "import re\n",
        "\n",
        "def count_valid_words(sentence):\n",
        "    words = sentence.strip().split()\n",
        "    total = 0\n",
        "    for word in words:\n",
        "        if re.fullmatch(r'[a-zA-Z]+(-[a-zA-Z]+)*[.,!?]?', word):\n",
        "            total += 1\n",
        "    return total\n",
        "\n",
        "\n",
        "print(count_valid_words(\"Saat meng*ecat tembok, Agung dib_antu oleh Raihan.\"))\n",
        "# Output: 5\n",
        "\n",
        "print(count_valid_words(\"Berapa u(mur minimal[ untuk !mengurus ktp?\"))\n",
        "# Output: 3\n",
        "\n",
        "print(count_valid_words(\"Masing-masing anak mendap(atkan uang jajan ya=ng be&rbeda.\"))\n",
        "# Output: 4\n"
      ],
      "metadata": {
        "colab": {
          "base_uri": "https://localhost:8080/"
        },
        "id": "phzwaKbgxd7b",
        "outputId": "a3e1092e-872b-4ca2-a177-3ecf7c4cafea"
      },
      "execution_count": 10,
      "outputs": [
        {
          "output_type": "stream",
          "name": "stdout",
          "text": [
            "5\n",
            "3\n",
            "4\n"
          ]
        }
      ]
    }
  ]
}